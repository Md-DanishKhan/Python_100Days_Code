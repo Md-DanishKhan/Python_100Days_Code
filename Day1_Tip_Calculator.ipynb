{
 "cells": [
  {
   "cell_type": "code",
   "execution_count": 9,
   "id": "120a291b-82b8-4883-b4aa-41b2d5b8284b",
   "metadata": {},
   "outputs": [
    {
     "name": "stdout",
     "output_type": "stream",
     "text": [
      "Welcome to the tip calculator\n"
     ]
    },
    {
     "name": "stdin",
     "output_type": "stream",
     "text": [
      "What is the total bill 100\n",
      "What percentage of tip would you like to give 12\n",
      "Within how many people you want to split the bill 3\n"
     ]
    },
    {
     "name": "stdout",
     "output_type": "stream",
     "text": [
      "Each person should pay : 37.33\n"
     ]
    }
   ],
   "source": [
    "\"\"\"#If the bill was $150.00, split between 5 people, with 12% tip. \n",
    "\n",
    "#Each person should pay (150.00 / 5) * 1.12 = 33.6\n",
    "#Format the result to 2 decimal places = 33.60\n",
    "\n",
    "#Tip: There are 2 ways to round a number. You might have to do some Googling to solve this.💪\n",
    "\n",
    "#Write your code below this line 👇\"\"\"\n",
    "\n",
    "\n",
    "print(\"Welcome to the tip calculator\")\n",
    "bill = float(input(\"What is the total bill\"))\n",
    "tip = float(input(\"What percentage of tip would you like to give\"))\n",
    "\n",
    "tip_percentage = (tip/100) * bill \n",
    "total_bill = bill + tip_percentage\n",
    "bill_split = int(input(\"Within how many people you want to split the bill\"))\n",
    " \n",
    "sum_bill = total_bill / bill_split\n",
    "\n",
    "print(\"Each person should pay : {:.2f}\".format(sum_bill))"
   ]
  },
  {
   "cell_type": "code",
   "execution_count": null,
   "id": "1aad8151-715d-45b5-909b-8478315c71ef",
   "metadata": {},
   "outputs": [],
   "source": []
  }
 ],
 "metadata": {
  "kernelspec": {
   "display_name": "Python 3 (ipykernel)",
   "language": "python",
   "name": "python3"
  },
  "language_info": {
   "codemirror_mode": {
    "name": "ipython",
    "version": 3
   },
   "file_extension": ".py",
   "mimetype": "text/x-python",
   "name": "python",
   "nbconvert_exporter": "python",
   "pygments_lexer": "ipython3",
   "version": "3.10.8"
  }
 },
 "nbformat": 4,
 "nbformat_minor": 5
}
